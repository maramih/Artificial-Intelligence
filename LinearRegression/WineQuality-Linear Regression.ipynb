{
 "cells": [
  {
   "cell_type": "code",
   "execution_count": 162,
   "metadata": {},
   "outputs": [],
   "source": [
    "import numpy as np\n",
    "import math\n",
    "import matplotlib.pyplot as plt\n",
    "import pandas as pd\n",
    "import ipywidgets as wgt\n",
    "from ipywidgets import interact, interactive, fixed, interact_manual\n",
    "from sklearn.model_selection import train_test_split\n",
    "from sklearn.linear_model import LinearRegression\n",
    "\n",
    "\n",
    "def readFromFile():\n",
    "    file=pd.read_csv(\"winequality-white.csv\",delimiter=';',engine='python')\n",
    "    x=file.iloc[:,:-1].values.tolist()\n",
    "    x=np.array(x)\n",
    "    y=file.iloc[:,-1:].values.tolist()\n",
    "    y=np.array(y)\n",
    "    return x,y\n",
    "\n",
    "def readMatrix():\n",
    "    file=pd.read_csv(\"winequality-white.csv\",delimiter=';',engine='python')\n",
    "    x=file.iloc[:,:].values.tolist()\n",
    "    x=np.array(x)\n",
    "    return x\n",
    "\n",
    "def scalareMatrice(x):\n",
    "    maxes=np.max(x,axis=0)\n",
    "    mins=np.min(x, axis=0)\n",
    "    x=(x-mins)/(maxes-mins)\n",
    "    return x, maxes, mins\n",
    "\n",
    "def addColumn(x):\n",
    "    z = np.ones((x.shape[0],1))\n",
    "    x=np.append(z,x,axis=1)\n",
    "    return x\n",
    "\n",
    "def pseudoinversa():\n",
    "    X,Y=readFromFile()\n",
    "    #X,maxim,minim=scalareMatrice(X)\n",
    "    #X=addColumn(X)\n",
    "    \n",
    "    theta=np.matmul(np.linalg.pinv(X),Y)\n",
    "    ipoteza=np.matmul(X,theta)\n",
    "    \n",
    "    print(\"Hypothesis, Initial output quality: \\n\",np.append(ipoteza, Y,axis=1))\n",
    "    \n",
    "    diferenta=(ipoteza-Y)**2\n",
    "    eroare=(1/(2*X.shape[0]))*np.sum(diferenta)\n",
    "    print(\"Pseudoinversa J:\",eroare)\n",
    "    \n",
    "def functie_cost(X,Y,theta):\n",
    "    ipoteza=np.matmul(X,theta)    \n",
    "    diferenta=(ipoteza-Y)**2\n",
    "    eroare=(1/(2*X.shape[0]))*np.sum(diferenta)\n",
    "    print(np.append(ipoteza, Y,axis=1))\n",
    "    return eroare\n"
   ]
  },
  {
   "cell_type": "code",
   "execution_count": 163,
   "metadata": {},
   "outputs": [],
   "source": [
    "def gradient_descent(theta,X,Y,alpha,no_iterations):\n",
    "    past_costs = []\n",
    "    past_thetas = [theta]\n",
    "    theta_precedent = 0\n",
    "    \n",
    "    for i in range(no_iterations):\n",
    "        ipoteza = np.matmul(X, theta)\n",
    "        diferenta = ipoteza-Y\n",
    "        \n",
    "        cost =1/(2*X.shape[0])*np.sum(diferenta**2)\n",
    "        past_costs.append(cost)\n",
    "        \n",
    "        theta = theta - alpha*((1/X.shape[0]) * np.sum(diferenta*X))\n",
    "        past_thetas.append(theta)\n",
    "        \n",
    "        if np.allclose(past_thetas[-1].T, past_thetas[-2].T, rtol=1e-20):\n",
    "            print(i)\n",
    "            break\n",
    "            \n",
    "        theta_precedent = theta\n",
    "   \n",
    "    return past_thetas, past_costs\n",
    "\n",
    "def gd_plot():\n",
    "    np.random.seed(123)\n",
    "    \n",
    "    X,Y=readFromFile()\n",
    "    X,maxim,minim=scalareMatrice(X)\n",
    "    X=addColumn(X)\n",
    "   \n",
    "    theta=np.random.rand(X.shape[1],1)\n",
    "    past_thetas, past_costs = gradient_descent(theta,X, Y,0.4,1000) \n",
    "    print(\"Gradient descent J:\",past_costs[-1])\n",
    "    \n",
    "    plt.title('J(theta)')\n",
    "    plt.xlabel('No. of iterations')\n",
    "    plt.ylabel('Cost')\n",
    "    plt.plot(past_costs)\n",
    "    plt.show()\n"
   ]
  },
  {
   "cell_type": "code",
   "execution_count": 164,
   "metadata": {},
   "outputs": [],
   "source": [
    "def testare():\n",
    "    np.random.seed(1)\n",
    "    X,Y=readFromFile()\n",
    "    np.random.shuffle(X)\n",
    "    X,maxim,minim=scalareMatrice(X)\n",
    "    X=addColumn(X)\n",
    "    np.random.shuffle(Y)\n",
    "    theta=np.random.rand(X.shape[1],1)\n",
    "    \n",
    "    X_train, X_test, y_train, y_test = train_test_split(X,Y,test_size=0.3)\n",
    "    \n",
    "    past_thetas, past_costs = gradient_descent(theta,X_train, y_train,0.006,1000)\n",
    "    #print(past_costs[-1])\n",
    "    \n",
    "    theta=past_thetas[-1]\n",
    "    print(functie_cost(X_test,y_test,theta))\n",
    "    #past_thetas, past_costs = gradient_descent(theta,X_test, y_test,0.006,1000) \n",
    "    #print(past_costs[-1])\n",
    "\n"
   ]
  },
  {
   "cell_type": "code",
   "execution_count": 165,
   "metadata": {},
   "outputs": [],
   "source": [
    "def testare2():\n",
    "    np.random.seed(1)\n",
    "    X=readMatrix()\n",
    "    np.random.shuffle(X)\n",
    "    Y=X[:,-1:]\n",
    "    X=X[:,:-1]\n",
    "    X,maxim,minim=scalareMatrice(X)\n",
    "    X=addColumn(X)\n",
    "    \n",
    "\n",
    "    theta=np.random.rand(X.shape[1],1)\n",
    "    \n",
    "    X_train, X_test, y_train, y_test = train_test_split(X,Y,test_size=0.3)\n",
    "    past_thetas, past_costs = gradient_descent(theta,X_train, y_train,0.01,1000)\n",
    "    #print(past_costs[-1])\n",
    "    \n",
    "    theta=past_thetas[-1]\n",
    "    print(\"Dupa testare:\",functie_cost(X_test,y_test,theta))\n",
    "    #past_thetas, past_costs = gradient_descent(theta,X_test, y_test,0.006,1000) \n",
    "    #print(past_costs[-1])"
   ]
  },
  {
   "cell_type": "code",
   "execution_count": 166,
   "metadata": {},
   "outputs": [
    {
     "name": "stdout",
     "output_type": "stream",
     "text": [
      "Hypothesis, Initial output quality: \n",
      " [[5.60198534 6.        ]\n",
      " [5.29184303 6.        ]\n",
      " [5.67112255 6.        ]\n",
      " ...\n",
      " [5.39202521 6.        ]\n",
      " [6.57075553 7.        ]\n",
      " [6.31167295 6.        ]]\n",
      "Pseudoinversa J: 0.285253523012379\n"
     ]
    },
    {
     "name": "stderr",
     "output_type": "stream",
     "text": [
      "C:\\Anaconda3\\lib\\site-packages\\numpy\\core\\fromnumeric.py:83: RuntimeWarning: overflow encountered in reduce\n",
      "  return ufunc.reduce(obj, axis, dtype, out, **passkwargs)\n",
      "C:\\Anaconda3\\lib\\site-packages\\ipykernel_launcher.py:10: RuntimeWarning: overflow encountered in square\n",
      "  # Remove the CWD from sys.path while we load stuff.\n"
     ]
    },
    {
     "name": "stdout",
     "output_type": "stream",
     "text": [
      "Gradient descent J: nan\n"
     ]
    },
    {
     "data": {
      "image/png": "[encoded data removed]",
      "text/plain": [
       "<Figure size 432x288 with 1 Axes>"
      ]
     },
     "metadata": {
      "needs_background": "light"
     },
     "output_type": "display_data"
    },
    {
     "name": "stdout",
     "output_type": "stream",
     "text": [
      "118\n",
      "[[5.97193281 6.        ]\n",
      " [6.28496105 7.        ]\n",
      " [5.46858452 5.        ]\n",
      " ...\n",
      " [5.9391681  7.        ]\n",
      " [5.66681835 4.        ]\n",
      " [6.13298552 5.        ]]\n",
      "Dupa testare: 0.4652641072326882\n"
     ]
    }
   ],
   "source": [
    "def main():\n",
    "    pseudoinversa()\n",
    "    gd_plot()\n",
    "    testare2()\n",
    "    \n",
    "main()"
   ]
  }
 ],
 "metadata": {
  "kernelspec": {
   "display_name": "Python 3",
   "language": "python",
   "name": "python3"
  },
  "language_info": {
   "codemirror_mode": {
    "name": "ipython",
    "version": 3
   },
   "file_extension": ".py",
   "mimetype": "text/x-python",
   "name": "python",
   "nbconvert_exporter": "python",
   "pygments_lexer": "ipython3",
   "version": "3.7.1"
  }
 },
 "nbformat": 4,
 "nbformat_minor": 2
}
