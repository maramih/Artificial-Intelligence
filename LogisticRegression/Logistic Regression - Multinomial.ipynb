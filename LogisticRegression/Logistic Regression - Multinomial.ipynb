{
 "cells": [
  {
   "cell_type": "code",
   "execution_count": 32,
   "metadata": {},
   "outputs": [],
   "source": [
    "import numpy as np\n",
    "import math\n",
    "import matplotlib.pyplot as plt\n",
    "import pandas as pd\n",
    "import ipywidgets as wgt\n",
    "from ipywidgets import interact, interactive, fixed, interact_manual\n",
    "from sklearn.model_selection import train_test_split"
   ]
  },
  {
   "cell_type": "code",
   "execution_count": 33,
   "metadata": {},
   "outputs": [],
   "source": [
    "def read_file(file_name):\n",
    "    file=pd.read_csv(file_name)\n",
    "    data=file.values\n",
    "\n",
    "    x=data[:,1:]\n",
    "    y=data[:,:1]    \n",
    "    \n",
    "    return x,y"
   ]
  },
  {
   "cell_type": "code",
   "execution_count": 34,
   "metadata": {},
   "outputs": [],
   "source": [
    "def addColumnOfOnes(matrix):\n",
    "    column_of_ones = np.ones((matrix.shape[0],1))\n",
    "    matrix=np.append(column_of_ones,matrix,axis=1)\n",
    "    return matrix"
   ]
  },
  {
   "cell_type": "code",
   "execution_count": 201,
   "metadata": {},
   "outputs": [],
   "source": [
    "def one_hot_encoding(y,k):\n",
    "    encoded= np.zeros((y.shape[0],k))\n",
    "    for i in range (0,y.shape[0]):\n",
    "        encoded[i,int(y[i,0])]=1\n",
    "    return encoded"
   ]
  },
  {
   "cell_type": "code",
   "execution_count": 200,
   "metadata": {},
   "outputs": [],
   "source": [
    "def accuracy(h,y_test):\n",
    "    contor=0\n",
    "    for i in range (len(h)):\n",
    "        if np.argmax(h[i])==np.argmax(y_test[i]):\n",
    "            contor+=1\n",
    "    return contor/len(y_test)"
   ]
  },
  {
   "cell_type": "code",
   "execution_count": 30,
   "metadata": {},
   "outputs": [],
   "source": [
    "def softmax(matrix):\n",
    "    return np.exp(matrix)/np.sum(np.exp(matrix))"
   ]
  },
  {
   "cell_type": "code",
   "execution_count": 190,
   "metadata": {},
   "outputs": [],
   "source": [
    "def cost(x,y,theta,lamb):\n",
    "    m=-1/x.shape[0]\n",
    "    J=m*np.sum(np.sum(y*np.log(softmax(np.dot(x,theta)))))\n",
    "    return J\n",
    "\n",
    "def costReg(x,y,theta,lamb):\n",
    "    m=-1/x.shape[0]\n",
    "    J=m*np.sum(np.sum(y*np.log(softmax(np.dot(x,theta)))))\n",
    "    reg=lamb/2*np.sum(np.sum(np.power(theta.copy(),2)))\n",
    "    return J+reg"
   ]
  },
  {
   "cell_type": "code",
   "execution_count": 148,
   "metadata": {},
   "outputs": [],
   "source": [
    "def gradient(x,y,theta,lamb):\n",
    "    m,n=np.shape(x)\n",
    "    return (-1/m)*(np.dot(x.T,y-softmax(np.dot(x,theta))))"
   ]
  },
  {
   "cell_type": "code",
   "execution_count": 230,
   "metadata": {},
   "outputs": [],
   "source": [
    "def gradient_descent(x,y,k):\n",
    "    theta=np.random.rand(x.shape[1],k)\n",
    "    alfa=0.03\n",
    "    lamb=0.09\n",
    "    nr_it=1000\n",
    "    eroare=np.zeros(nr_it)\n",
    "    \n",
    "    eroare[0]=cost(x,y,theta,lamb)\n",
    "    theta-=alfa*gradient(x,y,theta,lamb)\n",
    "    \n",
    "    for i in range(1,nr_it):        \n",
    "            eroare[i]=costReg(x,y,theta,lamb)\n",
    "            theta-=alfa*gradient(x,y,theta,lamb)+(lamb/x.shape[0])*theta\n",
    "        \n",
    "    return theta,eroare"
   ]
  },
  {
   "cell_type": "code",
   "execution_count": 175,
   "metadata": {},
   "outputs": [],
   "source": [
    "x_data,y_data=read_file(\"mnist_train.csv\")\n",
    "x_data_test,y_data_test=read_file(\"mnist_test.csv\")"
   ]
  },
  {
   "cell_type": "code",
   "execution_count": 233,
   "metadata": {},
   "outputs": [],
   "source": [
    "X_train,y_train=x_data,y_data\n",
    "X_test,y_test=x_data_test,y_data_test"
   ]
  },
  {
   "cell_type": "code",
   "execution_count": 234,
   "metadata": {},
   "outputs": [
    {
     "name": "stdout",
     "output_type": "stream",
     "text": [
      "463.02169542417835\n",
      "Accuracy  0.6798679867986799\n"
     ]
    }
   ],
   "source": [
    "clase=10\n",
    "y_train=one_hot_encoding(y_train,clase)\n",
    "y_test=one_hot_encoding(y_test,clase)\n",
    "    \n",
    "X_train=X_train/255\n",
    "X_test=X_test/255\n",
    "    \n",
    "X_train=addColumnOfOnes(X_train)\n",
    "X_test=addColumnOfOnes(X_test)\n",
    "    \n",
    "theta,eroare=gradient_descent(X_train,y_train,clase)\n",
    "print(np.mean(eroare))\n",
    "\n",
    "#plt.figure(figsize=(10,10))\n",
    "#plt.plot(eroare)\n",
    "#plt.show()\n",
    "\n",
    "h=softmax(np.dot(X_test,theta))\n",
    "h=np.argmax(h,axis=1)\n",
    "h=h.reshape(h.shape[0],1)\n",
    "h=one_hot_encoding(h,10)\n",
    "       \n",
    "print(\"Accuracy \",accuracy(h,y_test))"
   ]
  }
 ],
 "metadata": {
  "kernelspec": {
   "display_name": "Python 3",
   "language": "python",
   "name": "python3"
  },
  "language_info": {
   "codemirror_mode": {
    "name": "ipython",
    "version": 3
   },
   "file_extension": ".py",
   "mimetype": "text/x-python",
   "name": "python",
   "nbconvert_exporter": "python",
   "pygments_lexer": "ipython3",
   "version": "3.7.1"
  }
 },
 "nbformat": 4,
 "nbformat_minor": 2
}
