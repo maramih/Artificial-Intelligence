{
 "cells": [
  {
   "cell_type": "code",
   "execution_count": 416,
   "metadata": {},
   "outputs": [],
   "source": [
    "import numpy as np\n",
    "import math\n",
    "import matplotlib.pyplot as plt\n",
    "import pandas as pd\n",
    "import ipywidgets as wgt\n",
    "from ipywidgets import interact, interactive, fixed, interact_manual\n",
    "from sklearn.model_selection import train_test_split"
   ]
  },
  {
   "cell_type": "code",
   "execution_count": 417,
   "metadata": {},
   "outputs": [],
   "source": [
    "def read_file(file_name):\n",
    "    file=pd.read_csv(file_name)\n",
    "    data=file.values\n",
    "\n",
    "    x=data[:,1:]\n",
    "    y=data[:,:1]    \n",
    "    \n",
    "    return x,y"
   ]
  },
  {
   "cell_type": "code",
   "execution_count": 418,
   "metadata": {},
   "outputs": [],
   "source": [
    "def addColumnOfOnes(matrix):\n",
    "    column_of_ones = np.ones((matrix.shape[0],1))\n",
    "    matrix=np.append(column_of_ones,matrix,axis=1)\n",
    "    return matrix"
   ]
  },
  {
   "cell_type": "code",
   "execution_count": 419,
   "metadata": {},
   "outputs": [],
   "source": [
    "def select_two_numbers_to_train_on(first_value:int, second_value:int,x,y):\n",
    "    aux=np.squeeze(np.asarray(y))\n",
    "    x_filtr=x[(aux==first_value)|(aux==second_value),:]\n",
    "    y_filtr=y[np.where((aux==first_value) | (aux==second_value))]\n",
    "    return x_filtr,y_filtr"
   ]
  },
  {
   "cell_type": "code",
   "execution_count": 420,
   "metadata": {},
   "outputs": [],
   "source": [
    "def scale(matrix):\n",
    "    matrix_scl=(matrix-matrix.mean())/matrix.mean()\n",
    "    #matrix_scl=matrix/255\n",
    "    return matrix_scl"
   ]
  },
  {
   "cell_type": "code",
   "execution_count": 476,
   "metadata": {},
   "outputs": [],
   "source": [
    "def accuracy(h, y_test):\n",
    "    temp=[1 if x>0.5 else 0 for x in h]\n",
    "    temp2=y_test==1\n",
    "    confusionMatrix= np.zeros((2,2))\n",
    "    for i in range (0,len(y_test)):\n",
    "        if (temp[i]==temp2[i]==False):\n",
    "            confusionMatrix[0,0]+=1\n",
    "        elif(temp[i]==temp2[i]==True):\n",
    "            confusionMatrix[1,1]+=1\n",
    "        elif(temp[i]==False and temp2[i]==True):\n",
    "            confusionMatrix[1,0]+=1\n",
    "        else:\n",
    "            confusionMatrix[1,0]+=1\n",
    "    return confusionMatrix"
   ]
  },
  {
   "cell_type": "code",
   "execution_count": 422,
   "metadata": {},
   "outputs": [],
   "source": [
    "def hypothesis(matrix, theta):    \n",
    "    aux=np.dot(matrix,np.transpose(theta))\n",
    "    aux=scale(aux)\n",
    "    return 1/(1+np.exp(-aux)) "
   ]
  },
  {
   "cell_type": "code",
   "execution_count": 423,
   "metadata": {},
   "outputs": [],
   "source": [
    "def Kcost(x,y,theta):\n",
    "    h=hypothesis(x,theta)\n",
    "    m=y.shape[0]\n",
    "    J=(y*np.log(h)+(1-y)*(np.log(1-h))).mean()\n",
    "    return -J\n",
    "\n",
    "def KcostReg(x,y,theta,hyper):\n",
    "    h=hypothesis(x,theta)\n",
    "    m=y.shape[0]\n",
    "    J=(y*np.log(h)+(1-y)*(np.log(1-h))).mean()\n",
    "    regularizare=(np.sum(np.power(theta,2))*hyper/2)\n",
    "    return -J+regularizare"
   ]
  },
  {
   "cell_type": "code",
   "execution_count": 424,
   "metadata": {},
   "outputs": [],
   "source": [
    "def gradient(matrix,y,h):\n",
    "    return np.dot(np.transpose(matrix),(h-y))"
   ]
  },
  {
   "cell_type": "code",
   "execution_count": 425,
   "metadata": {},
   "outputs": [],
   "source": [
    "def gradient_descent(x,y):\n",
    "    theta=np.random.rand(1,x.shape[1]) \n",
    "    nr_it=50\n",
    "    alfa=0.006\n",
    "    m=y.shape[0]\n",
    "    eroare=np.zeros(nr_it)\n",
    "    for i in range (0,nr_it):\n",
    "        h=hypothesis(x,theta)\n",
    "        grad=gradient(x,y,h)\n",
    "        ec=(alfa*grad.T)*(1/m)\n",
    "        theta=theta-ec           \n",
    "        eroare[i]=Kcost(x,y,theta.copy())\n",
    "    return eroare,theta\n",
    "\n",
    "def gradient_descent_reg(x,y):\n",
    "    theta=np.random.rand(1,x.shape[1]) \n",
    "    nr_it=100\n",
    "    hyper=0.001\n",
    "    alfa=0.004214345\n",
    "    m=y.shape[0]\n",
    "    eroare=np.zeros(nr_it)\n",
    "    for i in range (0,nr_it):\n",
    "        h=hypothesis(x,theta)\n",
    "        grad=gradient(x,y,h)\n",
    "        ec=(alfa*grad.T)*(1/m)\n",
    "        theta=theta-ec\n",
    "        if i>0:\n",
    "            eroare[i]=KcostReg(x,y,theta,hyper)\n",
    "        else:\n",
    "            eroare[i]=Kcost(x,y,theta)\n",
    "\n",
    "    return eroare,theta"
   ]
  },
  {
   "cell_type": "code",
   "execution_count": 426,
   "metadata": {},
   "outputs": [],
   "source": [
    "x_data,y_data=read_file(\"mnist_train.csv\")"
   ]
  },
  {
   "cell_type": "code",
   "execution_count": 427,
   "metadata": {},
   "outputs": [],
   "source": [
    "x_data_test,y_data_test=read_file(\"mnist_test.csv\")"
   ]
  },
  {
   "cell_type": "code",
   "execution_count": 443,
   "metadata": {},
   "outputs": [],
   "source": [
    "x_train,y_train=x_data,y_data"
   ]
  },
  {
   "cell_type": "code",
   "execution_count": 444,
   "metadata": {},
   "outputs": [
    {
     "name": "stdout",
     "output_type": "stream",
     "text": [
      "(12665, 785)\n"
     ]
    },
    {
     "data": {
      "image/png": "[encoded data removed]",
      "text/plain": [
       "<Figure size 720x720 with 1 Axes>"
      ]
     },
     "metadata": {
      "needs_background": "light"
     },
     "output_type": "display_data"
    },
    {
     "name": "stdout",
     "output_type": "stream",
     "text": [
      "0.30842836233463067\n",
      "y [[0]\n",
      " [1]\n",
      " [1]\n",
      " ...\n",
      " [1]\n",
      " [0]\n",
      " [1]]\n"
     ]
    }
   ],
   "source": [
    "first_value=0\n",
    "second_value=1\n",
    "x_train,y_train=select_two_numbers_to_train_on(first_value,second_value,x_train,y_train)\n",
    "x_train=addColumnOfOnes(x_train)\n",
    "print(x_train.shape)\n",
    "#x_train=scale(x_train)\n",
    "\n",
    "eroare,theta=gradient_descent_reg(x_train,y_train)\n",
    "plt.figure(figsize=(10,10))\n",
    "plt.plot(eroare[1:])\n",
    "plt.show()\n",
    "\n",
    "h=hypothesis(x_train,theta)\n",
    "print(np.mean(eroare))\n",
    "print('y',y_train)\n",
    "\n",
    "\n"
   ]
  },
  {
   "cell_type": "code",
   "execution_count": 480,
   "metadata": {},
   "outputs": [
    {
     "name": "stdout",
     "output_type": "stream",
     "text": [
      "0.5332014950989967 2115\n",
      "0.9981087470449173\n",
      "[[ 976.    0.]\n",
      " [   4. 1135.]]\n"
     ]
    }
   ],
   "source": [
    "x_test,y_test=x_data_test,y_data_test\n",
    "x_test,y_test=select_two_numbers_to_train_on(first_value,second_value,x_test,y_test)\n",
    "x_test=addColumnOfOnes(x_test)\n",
    "\n",
    "eroare,theta=gradient_descent_reg(x_test,y_test)\n",
    "\n",
    "h=hypothesis(x_test,theta)\n",
    "#print(\"contor\",accuracy(h,y_test))\n",
    "print(np.mean(h), len(y_test))\n",
    "matrixConf=accuracy(h,y_test)\n",
    "#print('y hereeeeeeeeee',y_test)\n",
    "print((matrixConf[0,0]+matrixConf[1,1])/(len(y_test)))\n",
    "print(matrixConf)"
   ]
  },
  {
   "cell_type": "code",
   "execution_count": null,
   "metadata": {},
   "outputs": [],
   "source": []
  }
 ],
 "metadata": {
  "kernelspec": {
   "display_name": "Python 3",
   "language": "python",
   "name": "python3"
  },
  "language_info": {
   "codemirror_mode": {
    "name": "ipython",
    "version": 3
   },
   "file_extension": ".py",
   "mimetype": "text/x-python",
   "name": "python",
   "nbconvert_exporter": "python",
   "pygments_lexer": "ipython3",
   "version": "3.7.1"
  }
 },
 "nbformat": 4,
 "nbformat_minor": 2
}
