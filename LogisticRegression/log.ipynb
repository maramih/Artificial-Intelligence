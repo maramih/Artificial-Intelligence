{
 "cells": [
  {
   "cell_type": "code",
   "execution_count": 20,
   "metadata": {},
   "outputs": [],
   "source": [
    "import pandas \n",
    "import matplotlib.pyplot as plt\n",
    "import numpy as np \n",
    "\n",
    "\n",
    "def read_inst():\n",
    "    dataframe_train=pandas.read_csv('mnist_train.csv')\n",
    "    dataframe_test=pandas.read_csv('mnist_test.csv')\n",
    "    \n",
    "    data_train=dataframe_train.values\n",
    "    data_test=dataframe_test.values\n",
    "    \n",
    "    y_train=data_train[:,:1]\n",
    "    y_test=data_test[:,:1]\n",
    "    \n",
    "    data_train=data_train[:,1:]\n",
    "    data_test=data_test[:,1:]\n",
    "    \n",
    "    return data_train,y_train,data_test,y_test\n",
    "\n",
    "X_train,y_train,X_test,y_test=read_inst()"
   ]
  },
  {
   "cell_type": "code",
   "execution_count": 21,
   "metadata": {},
   "outputs": [],
   "source": [
    "def extra_col(mat):\n",
    "    mat2=np.ones((len(mat),1+len(mat[0])))\n",
    "    mat2[:,1:]=mat[:,:]\n",
    "    return mat2"
   ]
  },
  {
   "cell_type": "code",
   "execution_count": 22,
   "metadata": {},
   "outputs": [],
   "source": [
    "def filtrate(cifra1:int ,cifra2:int ,mat,y):\n",
    "    aux=np.squeeze(np.asarray(y))\n",
    "    mat_filtrata=mat[(aux==cifra1)|(aux==cifra2),:]\n",
    "    y_filtrat=y[np.where((aux==cifra1) | (aux==cifra2))]\n",
    "    return mat_filtrata,y_filtrat"
   ]
  },
  {
   "cell_type": "code",
   "execution_count": 23,
   "metadata": {},
   "outputs": [],
   "source": [
    "#def scalare(mat):\n",
    "  #  y=(mat[:,:]-mat[:,:].min(axis=0))/(mat[:,:].max(axis=0)-mat[:,:].min(axis=0))\n",
    "  #  return y"
   ]
  },
  {
   "cell_type": "code",
   "execution_count": 24,
   "metadata": {},
   "outputs": [],
   "source": [
    "#def another(mat):\n",
    "  #  y=(mat.T-mat.mean())/(mat[:,:].max(axis=0)-mat[:,:].min(axis=0))\n",
    "  #  return y.T"
   ]
  },
  {
   "cell_type": "code",
   "execution_count": 25,
   "metadata": {},
   "outputs": [],
   "source": [
    "def worck(mat):\n",
    "    y=(mat-mat.mean())/mat.mean()\n",
    "    return y"
   ]
  },
  {
   "cell_type": "code",
   "execution_count": 26,
   "metadata": {},
   "outputs": [],
   "source": [
    "def model_predictie(x,teta):\n",
    "    aux=np.dot(x,np.transpose(teta))\n",
    "    aux=worck(aux)\n",
    "    return 1/(1+np.exp(-aux))"
   ]
  },
  {
   "cell_type": "code",
   "execution_count": 27,
   "metadata": {},
   "outputs": [],
   "source": [
    "#def model(x,teta):\n",
    " #   aux=np.dot(x,np.transpose(teta))\n",
    " #   return 1/(1+np.exp(-aux))"
   ]
  },
  {
   "cell_type": "code",
   "execution_count": 28,
   "metadata": {},
   "outputs": [],
   "source": [
    "def Kcost(y,x,teta,lam):\n",
    "    h=model_predictie(x,teta)\n",
    "    m=y.shape[0]\n",
    "    I=(y*np.log(h)+(1-y)*(np.log(1-h))).mean()\n",
    "    II=(np.sum(np.power(teta,2))*lam/(2*x.shape[1]))\n",
    "    return -I"
   ]
  },
  {
   "cell_type": "code",
   "execution_count": 29,
   "metadata": {},
   "outputs": [],
   "source": [
    "def gradient(x,y,h):\n",
    "    return np.dot(x.T,(h-y))"
   ]
  },
  {
   "cell_type": "code",
   "execution_count": 30,
   "metadata": {},
   "outputs": [],
   "source": [
    "#def gard(x,y,h,lam,teta):\n",
    "   # return (np.dot(x.T,(h-y))+(lam/y.shape[0])*teta.T)/y.shape[0]"
   ]
  },
  {
   "cell_type": "code",
   "execution_count": 31,
   "metadata": {},
   "outputs": [],
   "source": [
    "def gradient_descent(x,y):\n",
    "    teta=np.random.rand(1,x.shape[1])\n",
    "    #teta=np.zeros([1,x.shape[1]])\n",
    "    nr_it=50\n",
    "    lam=0.1\n",
    "    alfa=0.002\n",
    "    m=y.shape[0]\n",
    "    eroare=np.zeros(nr_it)\n",
    "    for i in range (0,nr_it):\n",
    "        #grad=gradient(x,y,model_predictie(x,teta))\n",
    "        grad=gradient(x,y,model_predictie(x,teta))\n",
    "        #clone=teta.copy()\n",
    "        #teta=teta-alfa*(grad.T+(lam*clone/m))\n",
    "        #ec=((alfa*grad.T)*(1/m)+((lam/(2*x.shape[1])))*aux)\n",
    "        ec=(alfa*grad.T)*(1/m)\n",
    "        teta=teta-ec\n",
    "      \n",
    "        \n",
    "        eroare[i]=Kcost(y,x,teta.copy(),lam)\n",
    "    return eroare,nr_it,teta"
   ]
  },
  {
   "cell_type": "code",
   "execution_count": 34,
   "metadata": {},
   "outputs": [
    {
     "name": "stdout",
     "output_type": "stream",
     "text": [
      "(12700, 785)\n"
     ]
    },
    {
     "data": {
      "image/png": "[encoded data removed]",
      "text/plain": [
       "<Figure size 360x360 with 1 Axes>"
      ]
     },
     "metadata": {
      "needs_background": "light"
     },
     "output_type": "display_data"
    },
    {
     "name": "stdout",
     "output_type": "stream",
     "text": [
      "[[0.46916805]\n",
      " [0.56100191]\n",
      " [0.46219639]\n",
      " ...\n",
      " [0.58077149]\n",
      " [0.45674051]\n",
      " [0.37155251]] 0.8071566921445914 0.3244923076559893\n",
      "y [[1]\n",
      " [2]\n",
      " [1]\n",
      " ...\n",
      " [2]\n",
      " [2]\n",
      " [1]]\n",
      "[[0.51046279]\n",
      " [0.39134025]\n",
      " [0.44145598]\n",
      " ...\n",
      " [0.60539069]\n",
      " [0.4895245 ]\n",
      " [0.6707901 ]] 0.7675230618127941 0.3330739102370803\n",
      "y [[2]\n",
      " [1]\n",
      " [1]\n",
      " ...\n",
      " [2]\n",
      " [1]\n",
      " [2]]\n",
      "[[ True]\n",
      " [False]\n",
      " [False]\n",
      " ...\n",
      " [ True]\n",
      " [False]\n",
      " [ True]]\n",
      "82.41808952468851\n",
      "1786 2167\n"
     ]
    }
   ],
   "source": [
    "def main():\n",
    "    mat,y=filtrate(1,2,X_train,y_train)\n",
    "    mat=extra_col(mat)\n",
    "    print(mat.shape)\n",
    "    \n",
    "    eroare,nr_iteratii,t=gradient_descent(mat,y)\n",
    "    #print('eraore',eroare,eroare.shape)\n",
    "    plt.figure(figsize=(5,5))\n",
    "    plt.plot(np.arange(nr_iteratii),eroare,'red')\n",
    "    plt.show()\n",
    "    \n",
    "    h=model_predictie(mat,t)\n",
    "    print(h,np.max(h),np.min(h))\n",
    "    print('y',y)\n",
    "    \n",
    "    #aux1=h>0.5\n",
    "    #print(aux1)\n",
    "    #aux2=y==2\n",
    "    #contor=0\n",
    "    #for i in range (0,len(y)):\n",
    "    #    if (aux1[i]==aux2[i]):\n",
    "    #        contor+=1\n",
    "    #print(100*contor/(len(y)))\n",
    "    \n",
    "    #print(contor,len(y))\n",
    "    \n",
    "    test,y_t=filtrate(1,2,X_test,y_test)\n",
    "    test=extra_col(test)\n",
    "    \n",
    "    h_test=model_predictie(test,t)\n",
    "    print(h_test,np.max(h_test),np.min(h_test))\n",
    "    print('y',y_t)\n",
    "    \n",
    "    aux1=h_test>0.5\n",
    "    print(aux1)\n",
    "    aux2=y_t==2\n",
    "    contor=0\n",
    "    for i in range (0,len(y_t)):\n",
    "        if (aux1[i]==aux2[i]):\n",
    "            contor+=1\n",
    "    print(100*contor/(len(y_t)))\n",
    "    \n",
    "    print(contor,len(y_t))\n",
    "    \n",
    "    \n",
    "main()"
   ]
  },
  {
   "cell_type": "code",
   "execution_count": null,
   "metadata": {},
   "outputs": [],
   "source": []
  },
  {
   "cell_type": "code",
   "execution_count": null,
   "metadata": {},
   "outputs": [],
   "source": []
  }
 ],
 "metadata": {
  "kernelspec": {
   "display_name": "Python 3",
   "language": "python",
   "name": "python3"
  },
  "language_info": {
   "codemirror_mode": {
    "name": "ipython",
    "version": 3
   },
   "file_extension": ".py",
   "mimetype": "text/x-python",
   "name": "python",
   "nbconvert_exporter": "python",
   "pygments_lexer": "ipython3",
   "version": "3.7.1"
  }
 },
 "nbformat": 4,
 "nbformat_minor": 2
}
