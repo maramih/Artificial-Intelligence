{
 "cells": [
  {
   "cell_type": "markdown",
   "metadata": {},
   "source": [
    "# Multilayer perceptron"
   ]
  },
  {
   "cell_type": "code",
   "execution_count": 1,
   "metadata": {},
   "outputs": [],
   "source": [
    "import pandas as pd\n",
    "import numpy as np\n",
    "import ipywidgets as widgets\n",
    "import matplotlib.pyplot as plt"
   ]
  },
  {
   "cell_type": "code",
   "execution_count": 2,
   "metadata": {},
   "outputs": [],
   "source": [
    "def readData(filename):\n",
    "    data_set = pd.read_csv(filename).values\n",
    "    X = data_set[:, 1:]\n",
    "    # scale the values\n",
    "    X = X / 255.0\n",
    "    y = data_set[:, 0]\n",
    "\n",
    "    return X, y"
   ]
  },
  {
   "cell_type": "code",
   "execution_count": 3,
   "metadata": {},
   "outputs": [],
   "source": [
    "# read the train and test data\n",
    "X_train, y_train = readData('mnist_train.csv')\n",
    "X_test, y_test = readData('mnist_test.csv')\n",
    "\n",
    "X_train_without_validation = X_train[:49999]\n",
    "y_train_without_validation = y_train[:49999]\n",
    "X_train_validation = X_train[50000:]\n",
    "y_train_validation = y_train[50000:]"
   ]
  },
  {
   "cell_type": "markdown",
   "metadata": {},
   "source": [
    "### Hyperparameters"
   ]
  },
  {
   "cell_type": "code",
   "execution_count": 4,
   "metadata": {},
   "outputs": [],
   "source": [
    "epochsNumber = 30\n",
    "learningRate = 0.5 # AKA alfa\n",
    "regularizarionTerm = 0.3 # AKA lambda \n",
    "classesNumber = 10\n",
    "batchSize = 1024 "
   ]
  },
  {
   "cell_type": "markdown",
   "metadata": {},
   "source": [
    "### Helper functions"
   ]
  },
  {
   "cell_type": "code",
   "execution_count": 5,
   "metadata": {},
   "outputs": [],
   "source": [
    "def insertCol1(A):\n",
    "    ''' Insert a column with values of 1 to the beginning of the matrix '''\n",
    "    return np.insert(A, obj=0, values = 1, axis = 1)"
   ]
  },
  {
   "cell_type": "code",
   "execution_count": 6,
   "metadata": {},
   "outputs": [],
   "source": [
    "def softmax(x):\n",
    "    return np.exp(x) / np.sum(np.exp(x), axis=1, keepdims=True)"
   ]
  },
  {
   "cell_type": "code",
   "execution_count": 7,
   "metadata": {},
   "outputs": [],
   "source": [
    "def logisticSigmoid(x):\n",
    "    ''' Activation function that transforms the input into a value between 0.0 and 1.0.\n",
    "        Inputs that are much larger than 1.0 are transformed to the value 1.0, \n",
    "        similarly, values much smaller than 0.0 are snapped to 0.0 '''\n",
    "    return 1 / (1 + np.exp(x))"
   ]
  },
  {
   "cell_type": "code",
   "execution_count": 8,
   "metadata": {},
   "outputs": [],
   "source": [
    "def crossEntropyLoss(y_predicted, y_label):\n",
    "    ''' Returns the error calculated using cross-entropy method '''\n",
    "    cost = - (1.0 / y_label.shape[0]) * np.sum(np.multiply(np.log(y_predicted), y_label))\n",
    "    return cost"
   ]
  },
  {
   "cell_type": "code",
   "execution_count": 9,
   "metadata": {},
   "outputs": [],
   "source": [
    "def costFunction(a2, m, W1, W2, y):\n",
    "    ''' Reurns the cost '''\n",
    "    return crossEntrpoyCost(a2, y) + (regularizarionTerm / (2 * m)) * (np.sum(W1) ** 2 + np.sum(W2) ** 2)"
   ]
  },
  {
   "cell_type": "code",
   "execution_count": 10,
   "metadata": {},
   "outputs": [],
   "source": [
    "def accuracy(y_predicted, y):\n",
    "    y_predicted = np.argmax(y_predicted, axis=1)\n",
    "    accuracy = ((y_predicted == y).sum() * 100) / y.shape[0]\n",
    "    return accuracy"
   ]
  },
  {
   "cell_type": "code",
   "execution_count": 11,
   "metadata": {},
   "outputs": [],
   "source": [
    "def oneHotEncoding(y):\n",
    "    ''' Represents the numerical value of the entry in the dataset '''\n",
    "    oneHot = np.zeros((y.shape[0], classesNumber))\n",
    "    oneHot[np.arange(y.shape[0]), y] = 1\n",
    "    return oneHot"
   ]
  },
  {
   "cell_type": "code",
   "execution_count": 12,
   "metadata": {},
   "outputs": [],
   "source": [
    "def rectifiedLinearUnit(x):\n",
    "    ''' Activation function '''\n",
    "    return np.maximum(x, 0)"
   ]
  },
  {
   "cell_type": "code",
   "execution_count": 13,
   "metadata": {},
   "outputs": [],
   "source": [
    "def rectifiedLinearUnit_derived(x):\n",
    "    ''' Rectified Linear Unit Activation function derived'''\n",
    "    x[x <= 0.0] = 0.0\n",
    "    x[x > 0.0] = 1.0\n",
    "    return x"
   ]
  },
  {
   "cell_type": "code",
   "execution_count": 14,
   "metadata": {},
   "outputs": [],
   "source": [
    "def forwardPropagation(X, W1, W2, b1, b2, activationFunction1, activationFunction2):\n",
    "    ''' \n",
    "        PARAMETERS:\n",
    "        X : np.array\n",
    "            \n",
    "        W1, W2: np.array\n",
    "            weights for the layers\n",
    "        b1, b2 : np.array\n",
    "            vectors containing bias values \n",
    "\n",
    "         \n",
    "    '''\n",
    "    \n",
    "    ''' NOTATIONS:\n",
    "        z(l) - vector containing activation values for the neurons in layer l\n",
    "        a(l) - vector containing output values for the neurons in layer l\n",
    "        b(l) - vector containing bias values from layer l to layer l+1\n",
    "    '''\n",
    "    z1 = np.dot(X, W1.transpose()) + b1\n",
    "    a1 = activationFunction1(z1)\n",
    "    z2 = np.dot(a1, W2.transpose()) + b2\n",
    "    a2 = activationFunction2(z2)\n",
    "\n",
    "    return a1, a2"
   ]
  },
  {
   "cell_type": "code",
   "execution_count": 15,
   "metadata": {},
   "outputs": [],
   "source": [
    "def backPropagation(a1, a2, m, y, W1, W2, X):\n",
    "    ''' e\n",
    "        PARAMETERS:\n",
    "        a1, a2 : np.array\n",
    "            vectors containing activation values\n",
    "        m : int\n",
    "            number of lines in whole set\n",
    "        y : np.array\n",
    "            expected batch output\n",
    "        W1, W2: np.array\n",
    "            weights for the layers\n",
    "        \n",
    "    '''\n",
    "    d2 = (1.0 / m) * (a2 - y)\n",
    "    dW2 = np.matmul(d2.transpose(), a1) + (regularizarionTerm / m) * W2\n",
    "    db2 = np.sum(d2, axis=0, keepdims=True)\n",
    "\n",
    "    d1 = np.matmul(d2, W2) * rectifiedLinearUnit_derived(a1)\n",
    "    dW1 = np.matmul(d1.transpose(), X) + (regularizarionTerm / m) * W1\n",
    "    db1 = np.sum(d1, axis=0, keepdims=True)\n",
    "    \n",
    "    return dW2, db2, dW1, db1"
   ]
  },
  {
   "cell_type": "markdown",
   "metadata": {},
   "source": [
    "### Main functions"
   ]
  },
  {
   "cell_type": "code",
   "execution_count": 16,
   "metadata": {},
   "outputs": [],
   "source": [
    "def run(X_train, y_train, X_test, y_test, hiddenLayerSize):\n",
    "    ''' runs gradient descent for a network configuration '''\n",
    "    \n",
    "    # initialize weight matrices with random values close to zero\n",
    "    W1 = np.random.rand(hiddenLayerSize, X_train.shape[1]) * 0.01\n",
    "    W2 = np.random.rand(classesNumber, hiddenLayerSize) * 0.01\n",
    "    \n",
    "    # initilaize bias vectors with random values close to zero\n",
    "    b1 = np.random.rand(hiddenLayerSize) * 0.01\n",
    "    b2 = np.random.rand(classesNumber) * 0.01\n",
    "    \n",
    "    # label the outputs using one hot encoding\n",
    "    y_train_oneHot = oneHotEncoding(y_train)\n",
    "    y_test_oneHot = oneHotEncoding(y_test)\n",
    "    \n",
    "    # compute the number of necessary iterations\n",
    "    batchIterations = X_train.shape[0] // batchSize\n",
    "    \n",
    "    trainCosts = []\n",
    "    \n",
    "    for epoch in range(epochsNumber):\n",
    "        batchCost = 0\n",
    "        for iteration in range(batchIterations):\n",
    "            X_batch = X_train[iteration * batchSize : (iteration + 1) * batchSize, :]\n",
    "            Y_batch = y_train_oneHot[iteration * batchSize : (iteration + 1) * batchSize, :]\n",
    "            \n",
    "            # get the output values for the neurons\n",
    "            a1, a2 = forwardPropagation(X_batch, W1, W2, b1, b2, rectifiedLinearUnit, softmax)\n",
    "\n",
    "            # compute the cost for the current iteration and add it to the batch cost\n",
    "            cost = crossEntropyLoss(a2, Y_batch) + (regularizarionTerm / (2 * X_train.shape[0])) * (np.sum(W1) ** 2 + np.sum(W2) ** 2)\n",
    "            batchCost += cost\n",
    "            \n",
    "            # \n",
    "            dW2, db2, dW1, db1 = backPropagation(a1, a2, X_train.shape[0], Y_batch, W1, W2, X_batch)\n",
    "            \n",
    "            # adjust parameters\n",
    "            W2 = W2 - learningRate * dW2\n",
    "            b2 = b2 - learningRate * db2\n",
    "            W1 = W1 - learningRate * dW1\n",
    "            b1 = b1 - learningRate * db1\n",
    "        \n",
    "        cost = batchCost/batchIterations\n",
    "        trainCosts.append(cost)\n",
    "        \n",
    "        print('Epoch: ', epoch + 1, ' Train cost: ', cost)\n",
    "        \n",
    "    a1, a2 = forwardPropagation(X_test, W1, W2, b1, b2, rectifiedLinearUnit, softmax)\n",
    "    testCosts = crossEntropyLoss(a2, y_test_oneHot)\n",
    "        \n",
    "    parameters = (W1, W2, b1, b2)\n",
    "            \n",
    "    return testCosts, trainCosts, parameters"
   ]
  },
  {
   "cell_type": "code",
   "execution_count": 17,
   "metadata": {},
   "outputs": [],
   "source": [
    "hidden_layer_sizes = {100, 200, 250}\n",
    "hidden_layer_size = 100\n",
    "minimum_loss = 100000"
   ]
  },
  {
   "cell_type": "code",
   "execution_count": 18,
   "metadata": {},
   "outputs": [
    {
     "name": "stdout",
     "output_type": "stream",
     "text": [
      "Epoch:  1  Train cost:  4.132634345548634\n",
      "Epoch:  2  Train cost:  4.1269717632091405\n",
      "Epoch:  3  Train cost:  4.1219031460522135\n",
      "Epoch:  4  Train cost:  4.115374836865299\n",
      "Epoch:  5  Train cost:  4.106698430374105\n",
      "Epoch:  6  Train cost:  4.094743647783442\n",
      "Epoch:  7  Train cost:  4.077794062701586\n",
      "Epoch:  8  Train cost:  4.0533008993462785\n",
      "Epoch:  9  Train cost:  4.01769033104224\n",
      "Epoch:  10  Train cost:  3.9667966370129317\n",
      "Epoch:  11  Train cost:  3.89752893731262\n",
      "Epoch:  12  Train cost:  3.80986577690415\n",
      "Epoch:  13  Train cost:  3.7085506766139797\n",
      "Epoch:  14  Train cost:  3.6022546805573277\n",
      "Epoch:  15  Train cost:  3.499337899354218\n",
      "Epoch:  16  Train cost:  3.405271784786512\n",
      "Epoch:  17  Train cost:  3.323083483859092\n",
      "Epoch:  18  Train cost:  3.2538194928461963\n",
      "Epoch:  19  Train cost:  3.196855072203071\n",
      "Epoch:  20  Train cost:  3.1505896218250804\n",
      "Epoch:  21  Train cost:  3.113132578072486\n",
      "Epoch:  22  Train cost:  3.0827397987082694\n",
      "Epoch:  23  Train cost:  3.057994935664374\n",
      "Epoch:  24  Train cost:  3.0377664173513907\n",
      "Epoch:  25  Train cost:  3.0212189257118833\n",
      "Epoch:  26  Train cost:  3.0077103078020504\n",
      "Epoch:  27  Train cost:  2.996718222803022\n",
      "Epoch:  28  Train cost:  2.987809019150863\n",
      "Epoch:  29  Train cost:  2.980628218613969\n",
      "Epoch:  30  Train cost:  2.9748846868980006\n"
     ]
    },
    {
     "data": {
      "image/png": "[encoded data removed]",
      "text/plain": [
       "<Figure size 432x288 with 1 Axes>"
      ]
     },
     "metadata": {
      "needs_background": "light"
     },
     "output_type": "display_data"
    },
    {
     "name": "stdout",
     "output_type": "stream",
     "text": [
      "Epoch:  1  Train cost:  5.170347629145219\n",
      "Epoch:  2  Train cost:  5.1644119427768835\n",
      "Epoch:  3  Train cost:  5.158536991141474\n",
      "Epoch:  4  Train cost:  5.151048302334185\n",
      "Epoch:  5  Train cost:  5.141077228109707\n",
      "Epoch:  6  Train cost:  5.127264644547842\n",
      "Epoch:  7  Train cost:  5.107578319879328\n",
      "Epoch:  8  Train cost:  5.0790720071191044\n",
      "Epoch:  9  Train cost:  5.037763268157149\n",
      "Epoch:  10  Train cost:  4.979053829843444\n",
      "Epoch:  11  Train cost:  4.899833592203714\n",
      "Epoch:  12  Train cost:  4.802031412945695\n",
      "Epoch:  13  Train cost:  4.694099641176244\n",
      "Epoch:  14  Train cost:  4.586495469449355\n",
      "Epoch:  15  Train cost:  4.486912110003767\n",
      "Epoch:  16  Train cost:  4.399208777618507\n",
      "Epoch:  17  Train cost:  4.324581129176194\n",
      "Epoch:  18  Train cost:  4.26262346111794\n",
      "Epoch:  19  Train cost:  4.212151632394895\n",
      "Epoch:  20  Train cost:  4.171565295076249\n",
      "Epoch:  21  Train cost:  4.139171417979279\n",
      "Epoch:  22  Train cost:  4.113474789218169\n",
      "Epoch:  23  Train cost:  4.093203422104808\n",
      "Epoch:  24  Train cost:  4.077346108646477\n",
      "Epoch:  25  Train cost:  4.0650635447002115\n",
      "Epoch:  26  Train cost:  4.0556639335130935\n",
      "Epoch:  27  Train cost:  4.048619771750126\n",
      "Epoch:  28  Train cost:  4.043485558766343\n",
      "Epoch:  29  Train cost:  4.039900585564958\n",
      "Epoch:  30  Train cost:  4.0375903485851135\n"
     ]
    },
    {
     "data": {
      "image/png": "[encoded data removed]",
      "text/plain": [
       "<Figure size 432x288 with 1 Axes>"
      ]
     },
     "metadata": {
      "needs_background": "light"
     },
     "output_type": "display_data"
    },
    {
     "name": "stdout",
     "output_type": "stream",
     "text": [
      "Epoch:  1  Train cost:  2.7503966859642968\n",
      "Epoch:  2  Train cost:  2.743996906382915\n",
      "Epoch:  3  Train cost:  2.740223532537209\n",
      "Epoch:  4  Train cost:  2.7353982009510354\n",
      "Epoch:  5  Train cost:  2.72900193845727\n",
      "Epoch:  6  Train cost:  2.720361202713845\n",
      "Epoch:  7  Train cost:  2.708424955982215\n",
      "Epoch:  8  Train cost:  2.691592808746662\n",
      "Epoch:  9  Train cost:  2.6676003227350744\n",
      "Epoch:  10  Train cost:  2.6345034204965505\n",
      "Epoch:  11  Train cost:  2.591169581970312\n",
      "Epoch:  12  Train cost:  2.5363716878144698\n",
      "Epoch:  13  Train cost:  2.4695142887468045\n",
      "Epoch:  14  Train cost:  2.3917644067432966\n",
      "Epoch:  15  Train cost:  2.3047180597373806\n",
      "Epoch:  16  Train cost:  2.211139022780016\n",
      "Epoch:  17  Train cost:  2.1153440527474108\n",
      "Epoch:  18  Train cost:  2.02223567447721\n",
      "Epoch:  19  Train cost:  1.9359590314930564\n",
      "Epoch:  20  Train cost:  1.858969631613787\n",
      "Epoch:  21  Train cost:  1.7919118333059654\n",
      "Epoch:  22  Train cost:  1.7341330523374692\n",
      "Epoch:  23  Train cost:  1.6843609299207871\n",
      "Epoch:  24  Train cost:  1.641261752955966\n",
      "Epoch:  25  Train cost:  1.6036596798771718\n",
      "Epoch:  26  Train cost:  1.5706434713464346\n",
      "Epoch:  27  Train cost:  1.5414903413261065\n",
      "Epoch:  28  Train cost:  1.5156509611625806\n",
      "Epoch:  29  Train cost:  1.4926749470515819\n",
      "Epoch:  30  Train cost:  1.4722077256153214\n"
     ]
    },
    {
     "data": {
      "image/png": "[encoded data removed]",
      "text/plain": [
       "<Figure size 432x288 with 1 Axes>"
      ]
     },
     "metadata": {
      "needs_background": "light"
     },
     "output_type": "display_data"
    },
    {
     "name": "stdout",
     "output_type": "stream",
     "text": [
      "Optimal hidden layer size: 250\n",
      "Epoch:  1  Train cost:  4.698906263100784\n",
      "Epoch:  2  Train cost:  4.692815756504688\n",
      "Epoch:  3  Train cost:  4.686933793624699\n",
      "Epoch:  4  Train cost:  4.679326696545371\n",
      "Epoch:  5  Train cost:  4.669062801245642\n",
      "Epoch:  6  Train cost:  4.654674069410851\n",
      "Epoch:  7  Train cost:  4.6339582030275075\n",
      "Epoch:  8  Train cost:  4.603722786395487\n",
      "Epoch:  9  Train cost:  4.5596985120697715\n",
      "Epoch:  10  Train cost:  4.497245343502297\n",
      "Epoch:  11  Train cost:  4.413955601298989\n",
      "Epoch:  12  Train cost:  4.312191179144515\n",
      "Epoch:  13  Train cost:  4.198603894826825\n",
      "Epoch:  14  Train cost:  4.082903491637303\n",
      "Epoch:  15  Train cost:  3.974796133714488\n",
      "Epoch:  16  Train cost:  3.8805209419295936\n",
      "Epoch:  17  Train cost:  3.8020981859828185\n",
      "Epoch:  18  Train cost:  3.738670879349788\n",
      "Epoch:  19  Train cost:  3.688121646780131\n",
      "Epoch:  20  Train cost:  3.647999844026766\n",
      "Epoch:  21  Train cost:  3.616091645438723\n",
      "Epoch:  22  Train cost:  3.590570562335416\n",
      "Epoch:  23  Train cost:  3.5700690620600115\n",
      "Epoch:  24  Train cost:  3.553568024358949\n",
      "Epoch:  25  Train cost:  3.540251920396618\n",
      "Epoch:  26  Train cost:  3.529504824214244\n",
      "Epoch:  27  Train cost:  3.52085698411012\n",
      "Epoch:  28  Train cost:  3.513916692093224\n",
      "Epoch:  29  Train cost:  3.508401588698084\n",
      "Epoch:  30  Train cost:  3.504065355952892\n"
     ]
    },
    {
     "data": {
      "image/png": "[encoded data removed]",
      "text/plain": [
       "<Figure size 432x288 with 1 Axes>"
      ]
     },
     "metadata": {
      "needs_background": "light"
     },
     "output_type": "display_data"
    },
    {
     "name": "stdout",
     "output_type": "stream",
     "text": [
      "Test accuracy:  82.70827082708271\n"
     ]
    }
   ],
   "source": [
    "for layer_size in hidden_layer_sizes:\n",
    "    loss, train_loss, parameters = run(X_train_without_validation, y_train_without_validation, X_train_validation, y_train_validation, layer_size)\n",
    "    if loss < minimum_loss:\n",
    "        minimum_loss = loss\n",
    "        hidden_layer_size = layer_size\n",
    "\n",
    "    plt.plot(range(len(train_loss)), train_loss, color='blue')\n",
    "    plt.show()\n",
    "\n",
    "print('Optimal hidden layer size:', hidden_layer_size)\n",
    "\n",
    "loss, train_loss, parameters = run(X_train, y_train, X_test, y_test, hidden_layer_size)\n",
    "\n",
    "plt.plot(range(len(train_loss)), train_loss, color='blue')\n",
    "plt.show()\n",
    "\n",
    "prediction = forwardPropagation(X_test, parameters[0], parameters[1], parameters[2], parameters[3], rectifiedLinearUnit, softmax)\n",
    "test_accuracy = accuracy(prediction[1], y_test)\n",
    "print('Test accuracy: ', test_accuracy)"
   ]
  },
  {
   "cell_type": "code",
   "execution_count": 19,
   "metadata": {},
   "outputs": [
    {
     "data": {
      "text/plain": [
       "array([[0., 0., 0., ..., 0., 0., 0.],\n",
       "       [0., 0., 0., ..., 0., 0., 0.],\n",
       "       [0., 0., 0., ..., 0., 0., 0.],\n",
       "       ...,\n",
       "       [0., 0., 0., ..., 0., 0., 0.],\n",
       "       [0., 0., 0., ..., 0., 0., 0.],\n",
       "       [0., 0., 0., ..., 0., 0., 0.]])"
      ]
     },
     "execution_count": 19,
     "metadata": {},
     "output_type": "execute_result"
    }
   ],
   "source": []
  }
 ],
 "metadata": {
  "kernelspec": {
   "display_name": "Python 3",
   "language": "python",
   "name": "python3"
  },
  "language_info": {
   "codemirror_mode": {
    "name": "ipython",
    "version": 3
   },
   "file_extension": ".py",
   "mimetype": "text/x-python",
   "name": "python",
   "nbconvert_exporter": "python",
   "pygments_lexer": "ipython3",
   "version": "3.7.1"
  }
 },
 "nbformat": 4,
 "nbformat_minor": 2
}
